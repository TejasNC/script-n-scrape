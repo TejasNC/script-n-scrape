{
 "cells": [
  {
   "cell_type": "markdown",
   "metadata": {},
   "source": [
    "# Working With Pandas And Matplotlib"
   ]
  },
  {
   "cell_type": "markdown",
   "metadata": {},
   "source": [
    "This problem gives you an intro to doing Data Analysis with Pandas. The question is kept sligtly open ended on in the sense that we have not provided the exact steps you should take to arrive at the answers on purpose. You can refer to the tutorial provided to you earlier for inspiration. You should arrive at all the answers by writing appropriate code, eye-balling the data and reporting answers is not allowed. \n",
    "\n",
    "You are given [2011 Census Data](./NDAP_REPORT_6000.csv). Your task is to clean the data and perform the perform the following tasks:\n",
    "\n",
    "---\n",
    "\n",
    "## Task 1\n",
    "\n",
    "1. Show how literacy rate for males, females, and the total population differs between urban and rural areas within each state.\n",
    "2. Which state has the highest disparity between urban and rural areas?\n",
    "3. Also plot 2 graphs for male and female population showing combined literacy rates for each state\n",
    "\n",
    "## Task 2\n",
    "\n",
    "1. What is the distribution of the working population (main and marginal workers) by sector (cultivators, agricultural labourers, household industry, other workers) and gender across different states?\n",
    "2. Plot a graph showing all these sectors together for top 5 states ranked by employment rate.\n",
    "<br>\n",
    "<br>\n",
    "---\n",
    "\n",
    "You can also plot other graphs if needed or carry out other data analysis.\n"
   ]
  },
  {
   "cell_type": "code",
   "execution_count": 1,
   "metadata": {},
   "outputs": [],
   "source": [
    "import pandas as pd\n",
    "from matplotlib import pyplot as plt"
   ]
  },
  {
   "cell_type": "code",
   "execution_count": 2,
   "metadata": {},
   "outputs": [],
   "source": [
    "data = pd.read_csv('NDAP_REPORT_6000.csv')"
   ]
  },
  {
   "cell_type": "code",
   "execution_count": 3,
   "metadata": {},
   "outputs": [],
   "source": [
    "# data.info()"
   ]
  },
  {
   "cell_type": "code",
   "execution_count": 7,
   "metadata": {},
   "outputs": [],
   "source": [
    "# Check if there are any missing values"
   ]
  }
 ],
 "metadata": {
  "kernelspec": {
   "display_name": "Python 3",
   "language": "python",
   "name": "python3"
  },
  "language_info": {
   "codemirror_mode": {
    "name": "ipython",
    "version": 3
   },
   "file_extension": ".py",
   "mimetype": "text/x-python",
   "name": "python",
   "nbconvert_exporter": "python",
   "pygments_lexer": "ipython3",
   "version": "3.11.8"
  }
 },
 "nbformat": 4,
 "nbformat_minor": 2
}
